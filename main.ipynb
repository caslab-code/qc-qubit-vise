{
 "cells": [
  {
   "cell_type": "markdown",
   "id": "dd9a6557-6b84-4fce-ba0f-c05ab9b42f74",
   "metadata": {
    "slideshow": {
     "slide_type": "slide"
    },
    "tags": []
   },
   "source": [
    "<h1 style=\"color:#4E2A84;\">Qubit Vise Demonstration</h1>\n",
    "\n",
    "This notebook provides a demonstration of the *Qubit Vise* attack. The notebook shows how to create two attacker circuits with many $CNOT$ gates each and assign the circuits to specific physical qubits in the target quantum computer. It then demonstrates how to add a victim circuit and to assign it to qubits physically located between the two attacker circuits. The circuits are executed on the Rigetti Ankaa-3 quantum computer by using qBraid service. The example attacker circuits use many $CNOT$ gates to generates noise or crosstalk that affects the victim circuit. As of June 2025 this is first demonstration of two-sided crosstalk attack on a victim quantum circuit that is larger than 1 qubit, and also first type of this attack on Rigetti. The execution of the $CNOT$ gates in the attacker circuits on both sides of a victim causes crosstalk that is observed by analyzing how the victim's output statistics change without and with attack.\n",
    "\n",
    "General overview of *Qubit Vise* attack is shown in the below figure. There are two sets of attackers, located on either side of the victim. As an example, in the figure there are two sets of attackers each with $10$ qubits, and victim also using $10$ qubits. This number of attacker and victim qubits is only used for illustrative purposes. The attackers and victim qubits are shown on the Rigetti Ankaa-3 topology.\n",
    "\n",
    "<img src=\"images/qubit_vise_ankaa_3_overview.pdf\" alt=\"Qubit Vise overview figure\" style=\"width:600px;\"/>\n",
    "\n",
    "To demonstrate the crosstalk attack, this notebook leverages the `AWS` and `qBraid` cloud services, it uses the `Braket` development environment and targets a `Rigetti Ankaa-3` superconducting quantum computer."
   ]
  },
  {
   "cell_type": "code",
   "execution_count": null,
   "id": "045a5718-e164-4e4b-a85d-b51d622336f0",
   "metadata": {},
   "outputs": [],
   "source": [
    "# reset all notebook variables just in case\n",
    "%reset -f"
   ]
  },
  {
   "cell_type": "markdown",
   "id": "d6352cbe-74a1-466b-b65a-16934c475393",
   "metadata": {
    "jp-MarkdownHeadingCollapsed": true
   },
   "source": [
    "<h1 style=\"color:#4E2A84;\">Setup qBraid and Amazon Braket Environment</h1> \n",
    "\n",
    "This notebook assumes you are using qBraid to access quantum computers offered from Amazon Braket. This notebook assumes you have qBraid account active and have qBraid credits sufficient to exeucte the circuits. Generally, this notebook assumes you are working from [https://lab.qbraid.com].\n",
    "\n",
    "To begin, make sure that you have installed the latest Amazon Braket environment in qBraid Lab ([installation instructions](https://docs.qbraid.com/lab/user-guide/environments#install-environment)) and have selected the `Python [Braket vX.X]` kernel. (You can switch kernels by going to the Menu Bar → Kernel → Change Kernel in [https://lab.qbraid.com]). \n",
    "\n",
    "You can vew the kernel currently selected in the top-right of the editor window: <img src=\"images/image_select_kernel.png\" alt=\"Kernel selection\" style=\"width:200px;\"/>"
   ]
  },
  {
   "cell_type": "markdown",
   "id": "33d1088d-74b7-4498-b556-a4e4fc405fb9",
   "metadata": {},
   "source": [
    "<h1 style=\"color:#4E2A84;\">General Setup for Coding</h1> \n",
    "\n",
    "Now, you need to import the appropriate libraries. This notebook uses Braket development enviroment, which is initialized with the below imports."
   ]
  },
  {
   "cell_type": "code",
   "execution_count": null,
   "id": "912d2ba4-05db-430f-89c0-2ce4eb8b2bf0",
   "metadata": {
    "tags": []
   },
   "outputs": [],
   "source": [
    "# general imports\n",
    "import matplotlib.pyplot as plt\n",
    "import numpy as np\n",
    "\n",
    "# magic command to display plots below cells that produce them\n",
    "%matplotlib inline\n",
    "\n",
    "# import Braket related modules\n",
    "from braket.circuits import Circuit\n",
    "from braket.aws import AwsDevice, AwsQuantumTask"
   ]
  },
  {
   "cell_type": "markdown",
   "id": "218450a6-8859-4b41-a6ae-4e53ff371d42",
   "metadata": {},
   "source": [
    "<h1 style=\"color:#4E2A84;\">Partial Code for Circuit with Many CNOT Gates</h1>\n",
    "\n",
    "Below cells specify a circuit with many $CNOT$ gates. Note the qubits used by the $CNOT$ gates have specific indices. The indices, i.e. the physical qubits used in the circuit, were selected specifically based on the topology of the Rigetti Ankaa-3 quantum computer. The topology is exemplified later in this notebook. For now we simply show how to create a circuit with $CNOT$ gates, targetting $10$ qubits.\n",
    "\n",
    "Note that in Braket, we assign the physical (hardware) qubits when we define our circuit. It is different from IBM Qiskit, where the mapping of circuit qubits to hardware qubits is handled during the compilation step.\n",
    "\n",
    "Below you will define two circuits, each with different arrangament of $CNOT$ gates. After that, the two circuits can be concatenated together to create an even bigger circuit, which will be the actual circuit we will use."
   ]
  },
  {
   "cell_type": "code",
   "execution_count": null,
   "id": "b93fa2ca-b99a-47ea-8f64-ddb993681d2d",
   "metadata": {
    "tags": []
   },
   "outputs": [],
   "source": [
    "# define a circuit\n",
    "circ_attacker_top_a = Circuit()\n",
    "\n",
    "# add gates to the circuit\n",
    "circ_attacker_top_a.cnot(77, 78)\n",
    "circ_attacker_top_a.cnot(70, 71)\n",
    "circ_attacker_top_a.cnot(63, 64)\n",
    "circ_attacker_top_a.cnot(56, 57)\n",
    "circ_attacker_top_a.cnot(49, 50)"
   ]
  },
  {
   "cell_type": "code",
   "execution_count": null,
   "id": "e79292ef-4356-47ff-844c-47e1855cc001",
   "metadata": {},
   "outputs": [],
   "source": [
    "# print the circuit for inspecction\n",
    "print(circ_attacker_top_a)"
   ]
  },
  {
   "cell_type": "code",
   "execution_count": null,
   "id": "f430d7f0-f47f-41fd-98da-8d3c4676d244",
   "metadata": {
    "tags": []
   },
   "outputs": [],
   "source": [
    "# define a second circuit whith different arrangament of CNOT gates\n",
    "circ_attacker_top_b = Circuit()\n",
    "\n",
    "# add gates to the circuit\n",
    "circ_attacker_top_b.cnot(78, 71)\n",
    "circ_attacker_top_b.cnot(70, 63)\n",
    "circ_attacker_top_b.cnot(64, 57)\n",
    "circ_attacker_top_b.cnot(56, 49)"
   ]
  },
  {
   "cell_type": "code",
   "execution_count": null,
   "id": "fecddcc4-5bed-470d-8abf-d245eedcd98a",
   "metadata": {},
   "outputs": [],
   "source": [
    "# print the circuit for inspecction\n",
    "print(circ_attacker_top_b)"
   ]
  },
  {
   "cell_type": "markdown",
   "id": "8b13a9de-f891-4cd3-ac84-4d71a8de6e65",
   "metadata": {},
   "source": [
    "<h1 style=\"color:#4E2A84;\">Put Together Code for a Circuit with Many CNOT Gates</h1>\n",
    "\n",
    "Now you will combine the smaller circuits, *circ_attacker_top_a* and *circ_attacker_top_b*, to create a bigger attacker circuit. You can adjust the *num_copies* variable to control how many copies of the $CNOT$ gate circuits will be concatenated together. The more copies, the more crosstalk will be generated. However, you need to pay attention that the attacker circuit is not longer than the victim (i.e. it does not have depth larger than the victim) as otherwise the output of the victim will be affected not just by the crosstalk, but also decoherence as the victim circuit qubits are idle as the attacker circuits still execute. Furthter note that none of the circuts' depth should be larger than the decoherence times of the target quantum computer being used."
   ]
  },
  {
   "cell_type": "code",
   "execution_count": null,
   "id": "b54e5377-4ceb-433f-a785-825c341995b5",
   "metadata": {},
   "outputs": [],
   "source": [
    "# create the main circuit\n",
    "circ_attcker_top = Circuit()\n",
    "\n",
    "# set now many copies of the circuits to concatenate together\n",
    "num_copies = 2\n",
    "\n",
    "# use a loop to concatenate many copies of the circuits together\n",
    "for n in range(0,num_copies):\n",
    "    circ_attcker_top += circ_attacker_top_a\n",
    "    circ_attcker_top += circ_attacker_top_b"
   ]
  },
  {
   "cell_type": "code",
   "execution_count": null,
   "id": "b52aa00b-d0ec-49c2-a211-2ef744956fd5",
   "metadata": {
    "scrolled": true
   },
   "outputs": [],
   "source": [
    "# print the circuit\n",
    "print(circ_attcker_top)"
   ]
  },
  {
   "cell_type": "markdown",
   "id": "e76bbc2e-bd84-4118-8d84-426fd7cee9d8",
   "metadata": {},
   "source": [
    "<h1 style=\"color:#4E2A84;\">Second Circuit with Many CNOT Gates</h1>\n",
    "\n",
    "Below you will create a second attacker circuit, which will be physically placed below the victim. Similar to the first attacker circuit, it is composed of alternating sets of $CNOT$ gates. The physical qubits are assigned based on the Rigetti Ankaa-3 quantum computer's topology."
   ]
  },
  {
   "cell_type": "code",
   "execution_count": null,
   "id": "0ad3e6bc-b449-4590-8956-87c0003d4613",
   "metadata": {},
   "outputs": [],
   "source": [
    "# define a circuit\n",
    "circ_attacker_bottom_a = Circuit()\n",
    "\n",
    "# add gates to the circuit\n",
    "circ_attacker_bottom_a.cnot(81, 82)\n",
    "circ_attacker_bottom_a.cnot(74, 75)\n",
    "circ_attacker_bottom_a.cnot(67, 68)\n",
    "#circ_attacker_bottom_a.cnot(60, 62) #remove CNOT due to compilation error\n",
    "circ_attacker_bottom_a.cnot(53, 54)"
   ]
  },
  {
   "cell_type": "code",
   "execution_count": null,
   "id": "c85ad495-4e0a-41b5-a7d1-0de3b32c66aa",
   "metadata": {},
   "outputs": [],
   "source": [
    "# define a second circuit whith different arrangament of CNOT gates\n",
    "circ_attacker_bottom_b = Circuit()\n",
    "\n",
    "# add gates to the circuit\n",
    "circ_attacker_bottom_b.cnot(81, 74)\n",
    "circ_attacker_bottom_b.cnot(75, 68)\n",
    "circ_attacker_bottom_b.cnot(67, 60)\n",
    "#circ_attacker_bottom_b.cnot(62, 54) #remove CNOT due to compilation error"
   ]
  },
  {
   "cell_type": "code",
   "execution_count": null,
   "id": "2139c1de-d684-42e2-a268-d8a9ea4f32a1",
   "metadata": {},
   "outputs": [],
   "source": [
    "# create the main circuit\n",
    "circ_attcker_bottom = Circuit()\n",
    "\n",
    "# set now many copies of the circuits to concatenate together\n",
    "num_copies = 2\n",
    "\n",
    "# use a loop to concatenate many copies of the circuits together\n",
    "for n in range(0,num_copies):\n",
    "    circ_attcker_bottom += circ_attacker_bottom_a\n",
    "    circ_attcker_bottom += circ_attacker_bottom_b"
   ]
  },
  {
   "cell_type": "markdown",
   "id": "21d6decc-7ee7-4477-8d51-ca602c5378fe",
   "metadata": {
    "tags": []
   },
   "source": [
    "<h1 style=\"color:#4E2A84;\">Create the Qubit Vise Circuit</h1>\n",
    "\n",
    "Now you will combine the two attacker circuits to create the *Qbit Vise* attacker circuit. Below figure shows an illustration of where the attacker qubits are located.\n",
    "\n",
    "<img src=\"images/qubit_vise_ankaa_3_attackers.pdf\" alt=\"Layout of two attacker circuits\" style=\"width:600px;\"/>"
   ]
  },
  {
   "cell_type": "code",
   "execution_count": null,
   "id": "7b2e40b8-57c3-4025-a2dd-7f9741e26fbc",
   "metadata": {},
   "outputs": [],
   "source": [
    "# create the qubit vise circuit\n",
    "circ_qubit_vise = Circuit()\n",
    "\n",
    "# concatenate the two sets of CNOT gate circuits\n",
    "circ_qubit_vise += circ_attcker_top\n",
    "circ_qubit_vise += circ_attcker_bottom\n",
    "\n",
    "# keep track of qubits used, later needed for adding measurement gates\n",
    "qubits_used = []\n",
    "qubits_used.extend([77, 78, 70, 71, 63, 64, 56, 57, 49, 50])\n",
    "qubits_used.extend([81, 82, 74, 75, 67, 68, 60, 62, 53, 54])\n",
    "\n",
    "# print the circuit for visual inspection\n",
    "print(\"Qubits used:\", qubits_used)\n",
    "print(\"Gate depth:\", circ_qubit_vise.depth)\n",
    "print(circ_qubit_vise)"
   ]
  },
  {
   "cell_type": "markdown",
   "id": "4f879a73-830e-4633-952e-654275b40724",
   "metadata": {
    "tags": []
   },
   "source": [
    "<h1 style=\"color:#4E2A84;\">Define a Victim Circuit</h1>\n",
    "\n",
    "Bellow you will define a victim circuit, one that should do useful computation so that later its output can be compared without and with attack. Note, two copies of the victim circuit are needed, one is placed inside the *Qubit Vise* to analyze effect of cross talk, and second outside, ideally far away. To compare the potential results of the crosstalk to behavior of an unaffected qubit, you need this second copy as a reference somewhere else in the topology. Below example assigns qubits in the bottom-right of the Rigetti Ankaa-3 machines as the location for the reference circui: it is far away from the qubits where $CNOT$ gates execute, and so it should not be impacted by the crosstalk."
   ]
  },
  {
   "cell_type": "markdown",
   "id": "84401d8c-01fc-44a2-8d7d-3746a0b4084d",
   "metadata": {
    "tags": []
   },
   "source": [
    "<h2 style=\"color:#4E2A84;\">Bell Circuit</h2>\n",
    "\n",
    "Use next two cells for testing Bell circuit, otherwise skip them."
   ]
  },
  {
   "cell_type": "code",
   "execution_count": null,
   "id": "5e8bdea4-10b3-497b-9386-7d675d6d2dc5",
   "metadata": {},
   "outputs": [],
   "source": [
    "# create the victim bell circuit, 2 qubit\n",
    "circ_victim_main = Circuit()\n",
    "\n",
    "circ_victim_main.h(72)\n",
    "circ_victim_main.cnot(72, 65)\n",
    "\n",
    "# keep track of qubits used, later needed for adding measurement gates\n",
    "qubits_used.extend([72, 65])"
   ]
  },
  {
   "cell_type": "code",
   "execution_count": null,
   "id": "78c83df6-2d17-4c01-984e-7ce2547bf123",
   "metadata": {},
   "outputs": [],
   "source": [
    "# create the reference bell victim circuit, 2 qubit\n",
    "circ_victim_reference = Circuit()\n",
    "\n",
    "circ_victim_reference.h(12)\n",
    "circ_victim_reference.cnot(12, 5)\n",
    "\n",
    "# keep track of qubits used, later needed for adding measurement gates\n",
    "qubits_used.extend([12, 5])"
   ]
  },
  {
   "cell_type": "markdown",
   "id": "53709f8c-f457-49e4-b89f-edd5273b6a8e",
   "metadata": {
    "tags": []
   },
   "source": [
    "<h2 style=\"color:#4E2A84;\">Ising Circuit</h2>\n",
    "\n",
    "Use next two cells for testing Ising circuit, otherwise skip them."
   ]
  },
  {
   "cell_type": "code",
   "execution_count": null,
   "id": "c9a2084d-4cd2-4863-934c-276ff44d365e",
   "metadata": {},
   "outputs": [],
   "source": [
    "# create the victim ising circuit, 4 qubit\n",
    "\n",
    "# qubit map\n",
    "#qubit_map = {0: 79, 1: 80, 2: 72, 3: 73, 4: 65, 5: 66}\n",
    "qubit_map = {0: 79, 1: 80, 2: 73, 3: 72}\n",
    "             \n",
    "# parameters\n",
    "n_qubits = 4\n",
    "J = 1.0\n",
    "h = 0.8\n",
    "gamma = np.pi / 4  # Cost unitary angle\n",
    "beta = np.pi / 8   # Mixer unitary angle\n",
    "\n",
    "# create the circuit\n",
    "circ_victim_main = Circuit()\n",
    "\n",
    "# step 1: Hadamard gates (initialize to |+>)\n",
    "for q in range(n_qubits):\n",
    "    circ_victim_main.h(qubit_map[q])\n",
    "\n",
    "# step 2: Apply ZZ interactions (cost unitary)\n",
    "for i in range(n_qubits - 1):  # 0 to 2\n",
    "    circ_victim_main.cz(qubit_map[i], qubit_map[i+1])\n",
    "    circ_victim_main.rz(qubit_map[i+1], -2 * gamma * J)\n",
    "    circ_victim_main.cz(qubit_map[i], qubit_map[i+1])\n",
    "\n",
    "# step 3: Apply RX mixer terms\n",
    "for q in range(n_qubits):\n",
    "    circ_victim_main.rx(qubit_map[q], 2 * beta * h)\n",
    "\n",
    "sorted_values = [v for k, v in sorted(qubit_map.items())]\n",
    "qubits_used.extend(sorted_values)\n",
    "print(qubits_used)\n",
    "print(circ_victim_main)"
   ]
  },
  {
   "cell_type": "code",
   "execution_count": null,
   "id": "3783c5a3-efb5-47a0-b770-14312a64d959",
   "metadata": {},
   "outputs": [],
   "source": [
    "# create the reference ising circuit, 4 qubit\n",
    "\n",
    "# qubit map\n",
    "#qubit_map = {0: 19, 1: 20, 2: 12, 3: 13, 4: 5, 5: 6}\n",
    "qubit_map = {0: 19, 1: 20, 2: 13, 3: 12}\n",
    "             \n",
    "# parameters\n",
    "n_qubits = 4\n",
    "J = 1.0\n",
    "h = 0.8\n",
    "gamma = np.pi / 4  # Cost unitary angle\n",
    "beta = np.pi / 8   # Mixer unitary angle\n",
    "\n",
    "# create the circuit\n",
    "circ_victim_reference = Circuit()\n",
    "\n",
    "# step 1: Hadamard gates (initialize to |+>)\n",
    "for q in range(n_qubits):\n",
    "    circ_victim_reference.h(qubit_map[q])\n",
    "\n",
    "# step 2: Apply ZZ interactions (cost unitary)\n",
    "for i in range(n_qubits - 1):  # 0 to 4\n",
    "    circ_victim_reference.cz(qubit_map[i], qubit_map[i+1])\n",
    "    circ_victim_reference.rz(qubit_map[i+1], -2 * gamma * J)\n",
    "    circ_victim_reference.cz(qubit_map[i], qubit_map[i+1])\n",
    "\n",
    "# step 3: Apply RX mixer terms\n",
    "for q in range(n_qubits):\n",
    "    circ_victim_reference.rx(qubit_map[q], 2 * beta * h)\n",
    "\n",
    "sorted_values = [v for k, v in sorted(qubit_map.items())]\n",
    "qubits_used.extend(sorted_values)\n",
    "print(qubits_used)\n",
    "#print(circ_victim_reference)"
   ]
  },
  {
   "cell_type": "markdown",
   "id": "e88267c0-a42b-419c-a8d0-94d86dc98b8c",
   "metadata": {
    "tags": []
   },
   "source": [
    "<h2 style=\"color:#4E2A84;\">GHZ Circuit</h2>\n",
    "\n",
    "Use next two cells for testing GHZ circuit, otherwise skip them."
   ]
  },
  {
   "cell_type": "code",
   "execution_count": null,
   "id": "1b8d69c1-b5d3-4d9f-94b9-69a6d5c6c74c",
   "metadata": {},
   "outputs": [],
   "source": [
    "# create the victim ghz circuit, 6 qubit\n",
    "\n",
    "# qubit map per topology\n",
    "qubit_map = {0: 65, 1: 72, 2: 79, 3: 66, 4: 73, 5: 58}\n",
    "\n",
    "# make new circuit\n",
    "circ_victim_main = Circuit()\n",
    "\n",
    "# put qubit 0 into superposition\n",
    "circ_victim_main.h(qubit_map[0])\n",
    "\n",
    "# chain of CNOTs to entangle all qubits with qubit 0, add swap gates as needed per topology\n",
    "circ_victim_main.cnot(qubit_map[0], qubit_map[1]) # cnot with qubit 1\n",
    "circ_victim_main.swap(qubit_map[1], qubit_map[2])\n",
    "circ_victim_main.cnot(qubit_map[0], qubit_map[1]) # cnot with qubit 2\n",
    "circ_victim_main.cnot(qubit_map[0], qubit_map[3]) # cnot with qubit 3\n",
    "circ_victim_main.swap(qubit_map[3], qubit_map[4])\n",
    "circ_victim_main.cnot(qubit_map[0], qubit_map[3]) # cnot with qubit 4\n",
    "circ_victim_main.cnot(qubit_map[0], qubit_map[5]) # cnot with qubit 5\n",
    "\n",
    "sorted_values = [v for k, v in sorted(qubit_map.items())]\n",
    "qubits_used.extend(sorted_values)\n",
    "print(qubits_used)\n",
    "#print(circ_victim_main)"
   ]
  },
  {
   "cell_type": "code",
   "execution_count": null,
   "id": "0dcb96bf-8ee8-42b8-8851-6484b8dd0a21",
   "metadata": {},
   "outputs": [],
   "source": [
    "# create the victim ghz circuit, 6 qubit\n",
    "\n",
    "# qubit map per topology\n",
    "qubit_map = {0: 12, 1: 19, 2: 26, 3: 13, 4: 20, 5: 5}\n",
    "\n",
    "# make new circuit\n",
    "circ_victim_reference = Circuit()\n",
    "\n",
    "# put qubit 0 into superposition\n",
    "circ_victim_reference.h(qubit_map[0])\n",
    "\n",
    "# chain of CNOTs to entangle all qubits with qubit 0, add swap gates as needed per topology\n",
    "circ_victim_reference.cnot(qubit_map[0], qubit_map[1]) # cnot with qubit 1\n",
    "circ_victim_reference.swap(qubit_map[1], qubit_map[2])\n",
    "circ_victim_reference.cnot(qubit_map[0], qubit_map[1]) # cnot with qubit 2\n",
    "circ_victim_reference.cnot(qubit_map[0], qubit_map[3]) # cnot with qubit 3\n",
    "circ_victim_reference.swap(qubit_map[3], qubit_map[4])\n",
    "circ_victim_reference.cnot(qubit_map[0], qubit_map[3]) # cnot with qubit 4\n",
    "circ_victim_reference.cnot(qubit_map[0], qubit_map[5]) # cnot with qubit 5\n",
    "\n",
    "sorted_values = [v for k, v in sorted(qubit_map.items())]\n",
    "qubits_used.extend(sorted_values)\n",
    "print(qubits_used)\n",
    "#print(circ_victim_reference)"
   ]
  },
  {
   "cell_type": "markdown",
   "id": "ce698d79-3898-44fb-acba-ea319205abe1",
   "metadata": {
    "tags": []
   },
   "source": [
    "<h1 style=\"color:#4E2A84;\">Combined Circuit with Attackers and Victim</h1>\n",
    "\n",
    "You will now combine all the circuits together. The attackers, the victim, and the second reference victim are shown in the figure below:\n",
    "\n",
    "<img src=\"images/qubit_vise_ankaa_3_victim.pdf\" alt=\"Qubit layout with attackers and victim circuits\" style=\"width:600px;\"/>"
   ]
  },
  {
   "cell_type": "code",
   "execution_count": null,
   "id": "ec8f8570-303b-4fb7-ab63-5f67f7c76cac",
   "metadata": {},
   "outputs": [],
   "source": [
    "# create the combined circuit\n",
    "circ = Circuit()\n",
    "\n",
    "# put all the circuits together\n",
    "circ += circ_qubit_vise\n",
    "circ += circ_victim_main\n",
    "circ += circ_victim_reference"
   ]
  },
  {
   "cell_type": "code",
   "execution_count": null,
   "id": "692ec034-c8d2-421b-943d-d841209d3d5a",
   "metadata": {},
   "outputs": [],
   "source": [
    "# print circuit for visual inspection\n",
    "#print(circ)"
   ]
  },
  {
   "cell_type": "markdown",
   "id": "f9819c74-2f85-48b1-81d4-be0c12414c64",
   "metadata": {},
   "source": [
    "<h1 style=\"color:#4E2A84;\">Add Measurement to All Qubits</h1>\n",
    "\n",
    "With the circuit completed, the last part is now to add measurement to all the qubits."
   ]
  },
  {
   "cell_type": "code",
   "execution_count": null,
   "id": "00af9010-57ed-47c9-bbbd-df0532c55d23",
   "metadata": {},
   "outputs": [],
   "source": [
    "# add final measurement to all qubits\n",
    "for q in qubits_used:\n",
    "    circ.measure(q)"
   ]
  },
  {
   "cell_type": "code",
   "execution_count": null,
   "id": "657ad889-bd59-4009-afc2-c942f2031913",
   "metadata": {},
   "outputs": [],
   "source": [
    "# print circuit for inspection\n",
    "#print(circ)"
   ]
  },
  {
   "cell_type": "markdown",
   "id": "66dda952-ba4a-4e19-91bc-30498d7178a2",
   "metadata": {},
   "source": [
    "<h1 style=\"color:#4E2A84;\">Estimate the Circuit Duration</h1>\n",
    "\n",
    "As a minor sanity check, we want to check the duration of the circuit we generated. It is important to note that the qubits decohere, and computation cannot usually run longer than the so called $T1$ time ($T1$ time is an average, so in some cases compuation can run slightly longer than $T1$). If the circuit with many $CNOT$ gates were used to generate crosstalk and evaluate potentail qubit flits, the circuit with many $CNOT$ gates has to execute in the time shorter than $T1$. Otherwise, any qubit flips or state changes in other qubits affected by the crosstalk may actually be due to decoherence and not crosstalk.\n",
    "\n",
    "In summary, when running any experiments or circuits that are used to generate and evaluate crosstalk, all the circuits have to finish execution in time less than $T1$ so that the qubit flips can be attribtued to crosstalk."
   ]
  },
  {
   "cell_type": "code",
   "execution_count": null,
   "id": "55f65e4d-c32d-4947-9690-9707fa76c91b",
   "metadata": {},
   "outputs": [],
   "source": [
    "# circuit to estimate\n",
    "circ_to_estimate = circ\n",
    "\n",
    "# typical approximate parameters for Ankaa-3, time units are ns\n",
    "typical_parameters_ankaa_3_ns = {\n",
    "    \"t1\": 22000,\n",
    "    \"t2\": 19000,\n",
    "    \"cnot\": 72,\n",
    "}\n",
    "\n",
    "# get depth of the circuit\n",
    "print(\"Gate depth:\", circ_to_estimate.depth)\n",
    "\n",
    "# sanity check\n",
    "if circ_to_estimate.depth * typical_parameters_ankaa_3_ns['cnot'] < typical_parameters_ankaa_3_ns['t1']:\n",
    "    print(\"Based on gate depth, total circuit execution time seems to be less than the decoherence time.\")\n",
    "else:\n",
    "    print(\"Based on gate depth, total circuit execution time seems to be more than the decoherence time.\")\n",
    "    print(\"Be careful that any experiment results are affected by decoherence!\")\n"
   ]
  },
  {
   "cell_type": "markdown",
   "id": "ff50e453-2756-42ce-a5c0-9b4a22bdadef",
   "metadata": {},
   "source": [
    "<h1 style=\"color:#4E2A84;\">Skip Simulation</h1> \n",
    "\n",
    "Simple state-vector simulators do not simulate crosstalk, thus running circuits used for generating crosstalk, or trying to evalute crosstalk in state-vector simulators is not helpful. You will directly proceed to estimate the execution cost and run the circuit on real quantum computer."
   ]
  },
  {
   "cell_type": "markdown",
   "id": "5b049353-85b5-4d6f-9e42-068ecaaa6f85",
   "metadata": {},
   "source": [
    "<h1 style=\"color:#4E2A84;\">Set Number of Shots</h1> \n",
    "\n",
    "Before estimating the cost and executing the circuit, we need to specify the number of shots. As usually, a number aroung $1000$ should be sufficient."
   ]
  },
  {
   "cell_type": "code",
   "execution_count": null,
   "id": "1f580d1e-44b6-4dc0-ba6d-efbb6b1dc1c5",
   "metadata": {},
   "outputs": [],
   "source": [
    "# set number of shots\n",
    "circuit_shots = 1000"
   ]
  },
  {
   "cell_type": "markdown",
   "id": "e2ba5068-43b0-41d5-8e04-03c264ab7280",
   "metadata": {
    "editable": true,
    "slideshow": {
     "slide_type": ""
    },
    "tags": []
   },
   "source": [
    "<h1 style=\"color:#4E2A84;\">Estimate qBraids Credits Needed</h1> \n",
    "\n",
    "The cost to run a circuit on a quantum computer is divided into per-task cost (effectively the cost to submit a circuit for execution) and per-shot cost (additional cost for each shot).\n",
    "\n",
    "You can view the cost by selecting $DEVICES$ on the right-hand side of the editor, then search for Rigetti Ankaa-3 (AWS) and finally selecting the pricing cell. <img src=\"images/image_pricing.png\" alt=\"View pricing\" style=\"width:300px;\"/>\n",
    "\n",
    "The current cost is $30$ qBraid Credits per-task on Ankaa-3 and then $0.09$ qBraid Credits per-task.\n",
    "\n",
    "Currently each qBraid credit is valued at $0.01$ USD. This means that $100$ credits equate to $1.00$ USD."
   ]
  },
  {
   "cell_type": "code",
   "execution_count": null,
   "id": "7f1e33f7-4a30-4a03-a9f7-3e797f08deac",
   "metadata": {
    "editable": true,
    "slideshow": {
     "slide_type": ""
    },
    "tags": []
   },
   "outputs": [],
   "source": [
    "# compute cost\n",
    "perTaksCost = 30.00\n",
    "perShotCost = 0.09\n",
    "totalCost = perTaksCost+perShotCost*circuit_shots\n",
    "totalCostDollars = totalCost/100\n",
    "\n",
    "# print cost\n",
    "print(f'Cost to run Bell circuit on Rigetti Ankaa-3 via AWS is:')\n",
    "print(f'{totalCost} qBraid Credit or equivalently ${totalCostDollars} USD')"
   ]
  },
  {
   "cell_type": "markdown",
   "id": "84bac5e4-3ae8-4af0-af0f-50feb28a3392",
   "metadata": {
    "editable": true,
    "slideshow": {
     "slide_type": ""
    },
    "tags": []
   },
   "source": [
    "<h1 style=\"color:#4E2A84;\">Purchase or Request qBraid Credits</h1> \n",
    "\n",
    "You will need qBraid Credits to run the code on actual quantum computer. You can purchase the qBraid credits, or request them from your organization."
   ]
  },
  {
   "cell_type": "markdown",
   "id": "c3fde630-3cfd-4d53-aeb7-5db5e8a6227b",
   "metadata": {
    "tags": []
   },
   "source": [
    "<h1 style=\"color:#4E2A84;\">Submit the Circuit to Rigetti Ankaa-3</h1>\n",
    "\n",
    "You can now submit the circuit for execution.\n",
    "\n",
    "Please note, we’ve disabled qubit rewiring to allow us to ensure the qubits numbers we used in the circuit definition are exactly the ones which be used to execute our circuit. For Rigetti, qubit rewiring must be turned off by setting `disableQubitRewiring=True` for use with verbatim compilation. If `disableQubitRewiring=False` is set when using verbatim boxes in a compilation, the quantum circuit fails validation and does not run."
   ]
  },
  {
   "cell_type": "code",
   "execution_count": null,
   "id": "dee75a5b-fe7e-4394-820b-b7ef431f13e7",
   "metadata": {},
   "outputs": [],
   "source": [
    "# set up device\n",
    "ankaa = AwsDevice('arn:aws:braket:us-west-1::device/qpu/rigetti/Ankaa-3')\n",
    "\n",
    "# run circuit\n",
    "ankaa_task = ankaa.run(circ, shots=circuit_shots, disable_qubit_rewiring=True)\n",
    "    \n",
    "# get id and status of submitted task\n",
    "ankaa_task_id = ankaa_task.id\n",
    "ankaa_status = ankaa_task.state()\n",
    "\n",
    "# print task status\n",
    "print(f'Status of task: {ankaa_status}\\n')\n",
    "\n",
    "# print task id for future reference\n",
    "print(f'Task id: {ankaa_task_id}')"
   ]
  },
  {
   "cell_type": "markdown",
   "id": "788b09a1-9bde-46e8-9faa-10700ac7864d",
   "metadata": {
    "tags": []
   },
   "source": [
    "<h1 style=\"color:#4E2A84;\">Wait for Circuit to Complete</h1>\n",
    "\n",
    "You can use the task id to check if the circuit has completed. The results cannot be accessed until the circuit has completed and you may have to run the next cell multiple times until you see the status of the circuit as completed."
   ]
  },
  {
   "cell_type": "code",
   "execution_count": null,
   "id": "8a701c91-b9fc-4479-8563-18f4e8f7be6e",
   "metadata": {},
   "outputs": [],
   "source": [
    "# get task arn\n",
    "ankaa_task_arn = ''\n",
    "\n",
    "# load the quantum task\n",
    "ankaa_task_id = AwsQuantumTask(arn=ankaa_task_arn)\n",
    "\n",
    "# print status\n",
    "status = ankaa_task_id.state()\n",
    "print(\"Status of the task:\", status)\n",
    "#print(ankaa_task_id.state())\n",
    "#print(ankaa_task_id.metadata())"
   ]
  },
  {
   "cell_type": "markdown",
   "id": "7cfd4243-ef9c-45a0-af68-aab99d990172",
   "metadata": {
    "tags": []
   },
   "source": [
    "<h1 style=\"color:#4E2A84;\">Load Results</h1>\n",
    "\n",
    "When status of a taks is $COMPLETED$ you can access and analyze the results. Below cell simply gets results from the circuit. Cells further below are used to analyze specific victim circuits."
   ]
  },
  {
   "cell_type": "code",
   "execution_count": null,
   "id": "89735c31-b34c-4b72-aa87-8d8dcfa10972",
   "metadata": {
    "tags": []
   },
   "outputs": [],
   "source": [
    "# get task arn\n",
    "#ankaa_task_arn = ''\n",
    "\n",
    "# load the quantum task\n",
    "ankaa_task_id = AwsQuantumTask(arn=ankaa_task_arn)\n",
    "\n",
    "# get results\n",
    "ankaa_results = ankaa_task_id.result()\n",
    "\n",
    "# get order of qubits in the measurement counts\n",
    "print('Order of qubits in the measurement counts:',ankaa_results.measured_qubits)\n",
    "\n",
    "# get counts\n",
    "counts = ankaa_results.measurement_counts\n",
    "#print('Measurement counts:', counts)"
   ]
  },
  {
   "cell_type": "markdown",
   "id": "ed05e602-bd9f-4f06-ab94-d93ba8fff534",
   "metadata": {
    "tags": []
   },
   "source": [
    "<h1 style=\"color:#4E2A84;\">Victim Circuit Analysis</h1>\n",
    "\n",
    "Use the below cells to analyze the victim circuit. Generally, the least significant bits in the measuremet bitstrings represent the reference outputs, while the next set of bits right above the least significant bits represents the victim circuit outputs under attack."
   ]
  },
  {
   "cell_type": "code",
   "execution_count": null,
   "id": "e91340d9-b205-40bb-bb53-df01c92aafb6",
   "metadata": {},
   "outputs": [],
   "source": [
    "# helper function to check if bits match a pattern\n",
    "def is_bit_pattern_set(binary_str, meas_map, pattern_str):\n",
    "    reversed_str = binary_str[::-1]\n",
    "    test_str = str()\n",
    "    for key in sorted(meas_map):\n",
    "        test_str += reversed_str[meas_map[key]]\n",
    "    return test_str == pattern_str\n",
    "\n",
    "# collect counts for each possible state of the circuit\n",
    "def get_counts(counts, num_qubits, meas_map):\n",
    "    temp_counts = dict()\n",
    "    for j in range(2**num_qubits):\n",
    "        binary_str = bin(j)[2:].zfill(num_qubits)\n",
    "        temp_counts[binary_str] = 0\n",
    "\n",
    "    for j in range(2**num_qubits):\n",
    "        for key in counts.keys():\n",
    "            binary_str = bin(j)[2:].zfill(num_qubits)\n",
    "            if is_bit_pattern_set(key, meas_map, binary_str):\n",
    "                temp_counts[binary_str] = temp_counts[binary_str] + counts[key]\n",
    "\n",
    "    print(temp_counts)\n",
    "    return temp_counts\n",
    "\n",
    "test_circ = 'ising' # bell, ising, ghz\n",
    "\n",
    "if test_circ == 'bell':\n",
    "    # bell state circuit\n",
    "    num_qubits = 2\n",
    "    meas_map_ref = {0: 1, 1: 0}\n",
    "    meas_map_test = {0: 3, 1: 2}\n",
    "elif test_circ == 'ising':\n",
    "    # isinig 4 qubit circuit\n",
    "    num_qubits = 4\n",
    "    meas_map_ref = {0: 3, 1: 2, 2: 1, 3: 0}\n",
    "    meas_map_test = {0: 7, 1: 6, 2: 5, 3: 4}\n",
    "else:\n",
    "    # ghz 6 qubit circuit\n",
    "    num_qubits = 6\n",
    "    meas_map_ref = {0: 5, 1: 4, 2: 3, 3: 2, 4: 1, 5: 0}\n",
    "    meas_map_test = {0: 11, 1: 10, 2: 9, 3: 8, 4: 7, 5: 6}\n",
    "\n",
    "# get counts for the circuit\n",
    "counts_no_attack = get_counts(counts, num_qubits, meas_map_ref)\n",
    "\n",
    "# get counts for the circuit\n",
    "counts_with_attack = get_counts(counts, num_qubits, meas_map_test)"
   ]
  },
  {
   "cell_type": "code",
   "execution_count": null,
   "id": "2e4d576b-6e02-48f6-a0be-5126a3dc7039",
   "metadata": {},
   "outputs": [],
   "source": [
    "# plot counts without and with attack\n",
    "if test_circ == 'ghz':\n",
    "    plt.figure(figsize=(10, 3))\n",
    "else:\n",
    "    plt.figure(figsize=(5, 3))\n",
    "plt.bar(counts_no_attack.keys(), counts_no_attack.values(), color='mediumslateblue')\n",
    "plt.xticks(rotation=90)\n",
    "plt.xlabel('Bitstring')\n",
    "plt.ylabel('Counts')\n",
    "plt.title('Reference Measurement Outcomes')\n",
    "plt.grid(axis='y', linestyle='--', alpha=0.6)\n",
    "filename = test_circ + '_ref' + '.pdf'\n",
    "plt.savefig(filename, bbox_inches='tight')\n",
    "plt.show()\n",
    "\n",
    "if test_circ == 'ghz':\n",
    "    plt.figure(figsize=(10, 3))\n",
    "else:\n",
    "    plt.figure(figsize=(5, 3))\n",
    "plt.bar(counts_with_attack.keys(), counts_with_attack.values(), color='mediumslateblue')\n",
    "plt.xticks(rotation=90)\n",
    "plt.xlabel('Bitstring')\n",
    "plt.ylabel('Counts')\n",
    "plt.title('Measurement Outcomes Under Attack')\n",
    "plt.grid(axis='y', linestyle='--', alpha=0.6)\n",
    "filename = test_circ + '_test' + '.pdf'\n",
    "plt.savefig(filename, bbox_inches='tight')\n",
    "plt.show()"
   ]
  },
  {
   "cell_type": "code",
   "execution_count": null,
   "id": "13cc3994-3160-40e1-a5b6-24f8aaa63f3f",
   "metadata": {},
   "outputs": [],
   "source": [
    "# compute variational distance\n",
    "def variational_distance(counts1, counts2):\n",
    "    # Normalize both dictionaries\n",
    "    total1 = sum(counts1.values())\n",
    "    total2 = sum(counts2.values())\n",
    "    probs1 = {k: v / total1 for k, v in counts1.items()}\n",
    "    probs2 = {k: v / total2 for k, v in counts2.items()}\n",
    "\n",
    "    # Get union of all keys\n",
    "    all_keys = set(probs1.keys()) | set(probs2.keys())\n",
    "\n",
    "    # Compute variational distance\n",
    "    distance = 0.5 * sum(abs(probs1.get(k, 0) - probs2.get(k, 0)) for k in all_keys)\n",
    "    return distance\n",
    "\n",
    "tvd = variational_distance(counts_with_attack, counts_no_attack)\n",
    "print('Total variational distance:', round(tvd, 5))"
   ]
  },
  {
   "cell_type": "code",
   "execution_count": null,
   "id": "19f3daa0-4a57-4278-bab9-027ccefa6056",
   "metadata": {},
   "outputs": [],
   "source": []
  }
 ],
 "metadata": {
  "kernelspec": {
   "display_name": "Python 3.11 [Braket 1.88.3]",
   "language": "python",
   "name": "python3_amazon_dbqb0r"
  },
  "language_info": {
   "codemirror_mode": {
    "name": "ipython",
    "version": 3
   },
   "file_extension": ".py",
   "mimetype": "text/x-python",
   "name": "python",
   "nbconvert_exporter": "python",
   "pygments_lexer": "ipython3",
   "version": "3.11.9"
  }
 },
 "nbformat": 4,
 "nbformat_minor": 5
}
